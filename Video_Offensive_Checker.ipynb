{
  "cells": [
    {
      "cell_type": "markdown",
      "metadata": {
        "id": "view-in-github",
        "colab_type": "text"
      },
      "source": [
        "<a href=\"https://colab.research.google.com/github/TVasantha02/Video_Offensive_words_Checker/blob/main/Video_Offensive_Checker.ipynb\" target=\"_parent\"><img src=\"https://colab.research.google.com/assets/colab-badge.svg\" alt=\"Open In Colab\"/></a>"
      ]
    },
    {
      "cell_type": "markdown",
      "source": [
        "**Installing Necessary Packages**"
      ],
      "metadata": {
        "id": "YlE_hsIqpTWi"
      }
    },
    {
      "cell_type": "code",
      "execution_count": null,
      "metadata": {
        "id": "zCSs34Yo-N7E"
      },
      "outputs": [],
      "source": [
        "!pip install openai-whisper\n",
        "!pip install -U openai-whisper\n",
        "!pip install git+https://github.com/openai/whisper.git\n",
        "!pip install --upgrade --no-deps --force-reinstall git+https://github.com/openai/whisper.git\n",
        "!pip install ffmpeg\n",
        "!pip install setuptools-rust\n",
        "!pip install pydub\n",
        "!pip install better_profanity\n",
        "!pip install streamlit\n",
        "!pip install SpeechRecognition"
      ]
    },
    {
      "cell_type": "markdown",
      "source": [
        "**Extracting audio from video|Transcribing audio to text|Checking for offensive words**"
      ],
      "metadata": {
        "id": "rYoQ0djUpcab"
      }
    },
    {
      "cell_type": "code",
      "execution_count": null,
      "metadata": {
        "id": "68ToSU_yWDme"
      },
      "outputs": [],
      "source": [
        "%%writefile app.py\n",
        "import os\n",
        "import streamlit as st\n",
        "from pydub import AudioSegment\n",
        "from pydub.utils import mediainfo\n",
        "import speech_recognition as sr\n",
        "from better_profanity import profanity\n",
        "\n",
        "def transcribe_audio(audio_path):\n",
        "    recognizer = sr.Recognizer()\n",
        "\n",
        "    # Load the audio file\n",
        "    audio = AudioSegment.from_file(audio_path)\n",
        "\n",
        "    # Save audio as WAV (required by SpeechRecognition)\n",
        "    wav_path = \"extracted_audio.wav\"\n",
        "    audio.export(wav_path, format=\"wav\")\n",
        "\n",
        "    # Recognize speech using Google Web Speech API\n",
        "    with sr.AudioFile(wav_path) as source:\n",
        "        audio_data = recognizer.record(source)\n",
        "\n",
        "    try:\n",
        "        transcribed_text = recognizer.recognize_google(audio_data)\n",
        "        return transcribed_text\n",
        "    except sr.UnknownValueError:\n",
        "        return None\n",
        "    except sr.RequestError as e:\n",
        "        return {\"error\": f\"Speech recognition request failed; {e}\"}\n",
        "\n",
        "def check_video_offensiveness(video_file):\n",
        "    # Save the uploaded file to disk\n",
        "    with open(\"uploaded_video.mp4\", \"wb\") as f:\n",
        "        f.write(video_file.read())\n",
        "\n",
        "    # Load the video file\n",
        "    video_path = \"uploaded_video.mp4\"\n",
        "    video_info = mediainfo(video_path)\n",
        "    video_duration = float(video_info['duration']) * 1000  # in milliseconds\n",
        "\n",
        "    # Extract audio\n",
        "    audio_path = \"extracted_audio.wav\"\n",
        "    audio = AudioSegment.from_file(video_path)\n",
        "    audio.export(audio_path, format=\"wav\")  # Export audio to WAV format\n",
        "\n",
        "    # Perform transcription\n",
        "    transcribed_text = transcribe_audio(audio_path)\n",
        "\n",
        "    # Display the audio player\n",
        "    st.markdown(f'**Audio Extraction**')\n",
        "    audio_bytes = open(audio_path, \"rb\").read()  # Read WAV file as bytes\n",
        "    st.audio(audio_bytes, format=\"audio/wav\")\n",
        "\n",
        "    # Display the transcription in an expander\n",
        "    st.markdown('**Audio to Text Conversion**')\n",
        "\n",
        "    if transcribed_text:\n",
        "        # Display the extracted text inside brackets\n",
        "        st.write(f\"[{transcribed_text}]\")\n",
        "\n",
        "        # Check for offensive language\n",
        "        st.markdown('**Result**')\n",
        "        if contains_offensive(transcribed_text):\n",
        "            st.error(\"Video contains offensive content.\")\n",
        "        else:\n",
        "            st.success(\"Video is not offensive.\")\n",
        "    else:\n",
        "        st.warning(\"Text extraction failed.\")\n",
        "\n",
        "    # Clean up\n",
        "    os.remove(video_path)\n",
        "    os.remove(audio_path)\n",
        "\n",
        "def contains_offensive(text):\n",
        "    # Set the profanity load_censor_words parameter to True\n",
        "    profanity.load_censor_words()\n",
        "\n",
        "    # Check if the text contains offensive language\n",
        "    return profanity.contains_profanity(text)\n",
        "\n",
        "def main():\n",
        "    st.title(\"Video Offensiveness Checker\")\n",
        "\n",
        "    # File uploader for the video\n",
        "    video_file = st.file_uploader(\"Upload Video\", type=[\"mp4\"])\n",
        "\n",
        "    if video_file is not None:\n",
        "        # Check offensiveness\n",
        "        if st.button(\"Predict\"):\n",
        "            check_video_offensiveness(video_file)\n",
        "\n",
        "if __name__ == \"__main__\":\n",
        "    main()\n"
      ]
    },
    {
      "cell_type": "code",
      "execution_count": null,
      "metadata": {
        "id": "jfjTjlt2YqPx"
      },
      "outputs": [],
      "source": [
        "!curl icanhazip.com"
      ]
    },
    {
      "cell_type": "code",
      "execution_count": null,
      "metadata": {
        "id": "XuJAmp6hYtg9"
      },
      "outputs": [],
      "source": [
        "!streamlit run app.py --server.headless true --server.fileWatcherType none --browser.gatherUsageStats false &>/content/logs.txt &"
      ]
    },
    {
      "cell_type": "code",
      "execution_count": null,
      "metadata": {
        "id": "AiMuKTMgY4r5"
      },
      "outputs": [],
      "source": [
        "!npm install localtunnel"
      ]
    },
    {
      "cell_type": "code",
      "execution_count": null,
      "metadata": {
        "colab": {
          "background_save": true
        },
        "id": "qvr_MIofY5Wc"
      },
      "outputs": [],
      "source": [
        "!npx localtunnel --port 8501"
      ]
    }
  ],
  "metadata": {
    "accelerator": "GPU",
    "colab": {
      "gpuType": "T4",
      "provenance": [],
      "include_colab_link": true
    },
    "kernelspec": {
      "display_name": "Python 3",
      "name": "python3"
    },
    "language_info": {
      "name": "python"
    }
  },
  "nbformat": 4,
  "nbformat_minor": 0
}